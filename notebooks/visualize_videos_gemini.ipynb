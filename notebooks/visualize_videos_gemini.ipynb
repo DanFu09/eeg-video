{
 "cells": [
  {
   "cell_type": "code",
   "execution_count": 1,
   "metadata": {},
   "outputs": [],
   "source": [
    "import json"
   ]
  },
  {
   "cell_type": "markdown",
   "metadata": {},
   "source": [
    "# Read video metadata\n",
    "\n",
    "Read from `/media/4tb_hdd/shared/goodvideo_lpch/file_metadata.json`."
   ]
  },
  {
   "cell_type": "code",
   "execution_count": 2,
   "metadata": {},
   "outputs": [],
   "source": [
    "with open('/media/4tb_hdd/shared/goodvideo_lpch/file_metadata.json', 'r') as f:\n",
    "    video_files = json.load(f)"
   ]
  },
  {
   "cell_type": "code",
   "execution_count": 3,
   "metadata": {},
   "outputs": [
    {
     "name": "stdout",
     "output_type": "stream",
     "text": [
      "There are 37 videos with metadata\n"
     ]
    }
   ],
   "source": [
    "print('There are {} videos with metadata'.format(len(video_files)))"
   ]
  },
  {
   "cell_type": "markdown",
   "metadata": {},
   "source": [
    "# Visualize videos\n",
    "\n",
    "Import vgrid:"
   ]
  },
  {
   "cell_type": "code",
   "execution_count": 4,
   "metadata": {},
   "outputs": [],
   "source": [
    "from vgrid import VGridSpec, VideoMetadata, VideoBlockFormat, FlatFormat\n",
    "from vgrid_jupyter import VGridWidget"
   ]
  },
  {
   "cell_type": "markdown",
   "metadata": {},
   "source": [
    "Load metadata for videos:"
   ]
  },
  {
   "cell_type": "code",
   "execution_count": 6,
   "metadata": {},
   "outputs": [],
   "source": [
    "metadata_videos = [\n",
    "    VideoMetadata(\n",
    "        v[\"filename\"], id=v[\"id\"], fps=v[\"fps\"],\n",
    "        num_frames=int(v[\"num_frames\"]), width=v[\"width\"], height=v[\"height\"])\n",
    "    for v in video_files\n",
    "]"
   ]
  },
  {
   "cell_type": "markdown",
   "metadata": {},
   "source": [
    "Visualize with Vgrid:"
   ]
  },
  {
   "cell_type": "code",
   "execution_count": 7,
   "metadata": {},
   "outputs": [
    {
     "data": {
      "application/vnd.jupyter.widget-view+json": {
       "model_id": "7091079e49a94cb2b1276078e0439d66",
       "version_major": 2,
       "version_minor": 0
      },
      "text/plain": [
       "VGridWidget(vgrid_spec={'compressed': True, 'data': b'x\\x9c\\xcd\\x9a]o\\xdb6\\x14\\x86\\xffJ\\xe1\\xebA\\xe1\\xe17s\\xe7…"
      ]
     },
     "metadata": {},
     "output_type": "display_data"
    }
   ],
   "source": [
    "vgrid_spec = VGridSpec(\n",
    "    video_meta = metadata_videos,\n",
    "    vis_format = VideoBlockFormat(imaps = None, video_meta = metadata_videos),\n",
    "    video_endpoint = 'http://localhost:8080'\n",
    ")\n",
    "VGridWidget(vgrid_spec = vgrid_spec.to_json_compressed())"
   ]
  }
 ],
 "metadata": {
  "kernelspec": {
   "display_name": "Python [conda env:rekall] *",
   "language": "python",
   "name": "conda-env-rekall-py"
  },
  "language_info": {
   "codemirror_mode": {
    "name": "ipython",
    "version": 3
   },
   "file_extension": ".py",
   "mimetype": "text/x-python",
   "name": "python",
   "nbconvert_exporter": "python",
   "pygments_lexer": "ipython3",
   "version": "3.7.4"
  }
 },
 "nbformat": 4,
 "nbformat_minor": 2
}
