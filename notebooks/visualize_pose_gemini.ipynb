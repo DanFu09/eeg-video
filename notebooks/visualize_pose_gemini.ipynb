{
 "cells": [
  {
   "cell_type": "code",
   "execution_count": 104,
   "metadata": {},
   "outputs": [],
   "source": [
    "import json\n",
    "from tqdm import tqdm\n",
    "import os\n",
    "from rekall import Interval, IntervalSet, IntervalSetMapping, Bounds3D\n",
    "from vgrid import VGridSpec, VideoMetadata, VideoBlockFormat, FlatFormat\n",
    "from vgrid import SpatialType_Keypoints, Metadata_Keypoints\n",
    "from vgrid_jupyter import VGridWidget"
   ]
  },
  {
   "cell_type": "markdown",
   "metadata": {},
   "source": [
    "# Load metadata for videos\n",
    "\n",
    "Read from `/media/4tb_hdd/shared/goodvideo_lpch/file_metadata.json`."
   ]
  },
  {
   "cell_type": "code",
   "execution_count": 105,
   "metadata": {},
   "outputs": [
    {
     "name": "stdout",
     "output_type": "stream",
     "text": [
      "There are 38 videos with metadata\n"
     ]
    }
   ],
   "source": [
    "with open('/media/4tb_hdd/shared/goodvideo_lpch/file_metadata.json', 'r') as f:\n",
    "    video_files = json.load(f)\n",
    "    \n",
    "print('There are {} videos with metadata'.format(len(video_files)))\n",
    "\n",
    "metadata_videos = [\n",
    "    VideoMetadata(\n",
    "        v[\"filename\"], id=v[\"id\"], fps=v[\"fps\"],\n",
    "        num_frames=int(v[\"num_frames\"]), width=v[\"width\"], height=v[\"height\"])\n",
    "    for v in video_files\n",
    "]"
   ]
  },
  {
   "cell_type": "markdown",
   "metadata": {},
   "source": [
    "# Load pose annotations"
   ]
  },
  {
   "cell_type": "code",
   "execution_count": 106,
   "metadata": {},
   "outputs": [],
   "source": [
    "pose_annotation_files = []\n",
    "with open('/home/danfu/eeg-video/pose_annotation_list.txt', 'r') as f:\n",
    "    for line in f.readlines():\n",
    "        pose_annotation_files.append(line.strip())"
   ]
  },
  {
   "cell_type": "code",
   "execution_count": 107,
   "metadata": {},
   "outputs": [
    {
     "data": {
      "text/plain": [
       "'BA12305R.VOR/12305R00.mp4'"
      ]
     },
     "execution_count": 107,
     "metadata": {},
     "output_type": "execute_result"
    }
   ],
   "source": [
    "metadata_videos[0].path"
   ]
  },
  {
   "cell_type": "code",
   "execution_count": 108,
   "metadata": {},
   "outputs": [
    {
     "data": {
      "text/plain": [
       "'/media/4tb_hdd/shared/goodvideo_lpch/BA12305R.VOR/12305R04.json'"
      ]
     },
     "execution_count": 108,
     "metadata": {},
     "output_type": "execute_result"
    }
   ],
   "source": [
    "pose_annotation_files[0]"
   ]
  },
  {
   "cell_type": "code",
   "execution_count": 113,
   "metadata": {},
   "outputs": [],
   "source": [
    "def json_path_to_video_path(json_path):\n",
    "    return os.path.join(\n",
    "        os.path.basename(os.path.dirname(json_path)),\n",
    "        os.path.basename(json_path)\n",
    "    )[:-4]"
   ]
  },
  {
   "cell_type": "code",
   "execution_count": 120,
   "metadata": {},
   "outputs": [],
   "source": [
    "def video_path_to_vm(video_path):\n",
    "    for vm in metadata_videos:\n",
    "        if vm.path[:-3] == video_path:\n",
    "            return vm\n",
    "    return None"
   ]
  },
  {
   "cell_type": "code",
   "execution_count": 121,
   "metadata": {},
   "outputs": [],
   "source": [
    "def pose_annotation_to_array(pose_annotation):\n",
    "    '''\n",
    "    Assumes a format that looks like this for each frame:\n",
    "    {\n",
    "        '0': {'0': [0.5694444444444444, 0.5271739130434783]},\n",
    "        '1': {'1': [0.4675925925925926, 0.7391304347826086]},\n",
    "        '2': {'2': [0.2962962962962963, 0.7717391304347826]},\n",
    "        '5': {'5': [0.6712962962962963, 0.6902173913043478]},\n",
    "        '6': {'6': [0.7314814814814815, 0.9184782608695652]},\n",
    "        '14': {'14': [0.5231481481481481, 0.45652173913043476]},\n",
    "        '15': {'15': [0.6157407407407407, 0.483695652173913]},\n",
    "        '16': {'16': [0.4027777777777778, 0.483695652173913]},\n",
    "        '17': {'17': [0.6435185185185185, 0.5163043478260869]}\n",
    "    }\n",
    "    '''\n",
    "    new_pose = []\n",
    "    for i in range(18):\n",
    "        if str(i) in pose:\n",
    "            keypoint = pose[str(i)][str(i)]\n",
    "            new_pose.append([keypoint[0], keypoint[1], 1])\n",
    "        else:\n",
    "            new_pose.append([0, 0, 0])\n",
    "    return new_pose"
   ]
  },
  {
   "cell_type": "code",
   "execution_count": 125,
   "metadata": {},
   "outputs": [
    {
     "name": "stderr",
     "output_type": "stream",
     "text": [
      "100%|██████████| 10516/10516 [00:00<00:00, 44308.37it/s]\n",
      "100%|██████████| 10410/10410 [00:00<00:00, 26870.20it/s]\n",
      "100%|██████████| 10341/10341 [00:00<00:00, 35958.24it/s]\n",
      "100%|██████████| 10478/10478 [00:00<00:00, 33280.21it/s]\n",
      "100%|██████████| 10532/10532 [00:00<00:00, 26693.47it/s]\n"
     ]
    }
   ],
   "source": [
    "pose_metadata = {}\n",
    "for pose_annotation_file in pose_annotation_files:\n",
    "    pose_intervals = []\n",
    "    with open(pose_annotation_file, 'r') as f:\n",
    "        stride = 10\n",
    "        pose_annotations = [\n",
    "            json.loads(line.strip())\n",
    "            for line in f.readlines()\n",
    "        ][::stride]\n",
    "        \n",
    "        video_meta = video_path_to_vm(\n",
    "            json_path_to_video_path(pose_annotation_file)\n",
    "        )\n",
    "        \n",
    "        if video_meta is None:\n",
    "            continue\n",
    "        \n",
    "        for frame_number, pose_annotation in tqdm(enumerate(pose_annotations), total=len(pose_annotations)):\n",
    "            start = (frame_number * stride) / video_meta.fps\n",
    "            end = (frame_number + 1) * stride / video_meta.fps\n",
    "            for pose in pose_annotation:\n",
    "                pose_intervals.append(\n",
    "                    Interval(\n",
    "                        Bounds3D(start, end),\n",
    "                        {\n",
    "                            'spatial_type': SpatialType_Keypoints(),\n",
    "                            'metadata': {\n",
    "                                'pose': Metadata_Keypoints.from_openpose(\n",
    "                                    pose_annotation_to_array(pose)\n",
    "                                )\n",
    "                            }\n",
    "                        }\n",
    "                    )\n",
    "                )\n",
    "        \n",
    "        pose_metadata[video_meta.id] = IntervalSet(pose_intervals)"
   ]
  },
  {
   "cell_type": "code",
   "execution_count": 126,
   "metadata": {},
   "outputs": [
    {
     "data": {
      "text/plain": [
       "['/media/4tb_hdd/shared/goodvideo_lpch/BA12305R.VOR/12305R04.json',\n",
       " '/media/4tb_hdd/shared/goodvideo_lpch/BA12305R.VOR/12305R00.json',\n",
       " '/media/4tb_hdd/shared/goodvideo_lpch/BA12305R.VOR/12305R03.json',\n",
       " '/media/4tb_hdd/shared/goodvideo_lpch/BA12305R.VOR/12305R05.json',\n",
       " '/media/4tb_hdd/shared/goodvideo_lpch/BA12305R.VOR/12305R01.json',\n",
       " '/media/4tb_hdd/shared/goodvideo_lpch/BA12305R.VOR/12305R02.json']"
      ]
     },
     "execution_count": 126,
     "metadata": {},
     "output_type": "execute_result"
    }
   ],
   "source": [
    "pose_annotation_files"
   ]
  },
  {
   "cell_type": "code",
   "execution_count": 127,
   "metadata": {},
   "outputs": [
    {
     "data": {
      "application/vnd.jupyter.widget-view+json": {
       "model_id": "03cc424471e84ecbad08abe40f2ffe91",
       "version_major": 2,
       "version_minor": 0
      },
      "text/plain": [
       "VGridWidget(vgrid_spec={'compressed': True, 'data': b'x\\x9c\\xec\\xbd\\xdb\\x8e\\xecL\\x92\\x9d\\xf9*\\x85\\xffj\\x04$\\x0…"
      ]
     },
     "metadata": {},
     "output_type": "display_data"
    }
   ],
   "source": [
    "vgrid_spec = VGridSpec(\n",
    "    video_meta = metadata_videos,\n",
    "    vis_format = VideoBlockFormat(imaps = [\n",
    "        ('pose', IntervalSetMapping(pose_metadata))\n",
    "    ]),\n",
    "    video_endpoint = 'http://localhost:8080'\n",
    ")\n",
    "VGridWidget(vgrid_spec = vgrid_spec.to_json_compressed())"
   ]
  }
 ],
 "metadata": {
  "kernelspec": {
   "display_name": "Python [conda env:rekall] *",
   "language": "python",
   "name": "conda-env-rekall-py"
  },
  "language_info": {
   "codemirror_mode": {
    "name": "ipython",
    "version": 3
   },
   "file_extension": ".py",
   "mimetype": "text/x-python",
   "name": "python",
   "nbconvert_exporter": "python",
   "pygments_lexer": "ipython3",
   "version": "3.7.4"
  }
 },
 "nbformat": 4,
 "nbformat_minor": 2
}
