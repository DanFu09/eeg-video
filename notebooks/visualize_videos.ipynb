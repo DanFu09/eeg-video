{
 "cells": [
  {
   "cell_type": "code",
   "execution_count": null,
   "metadata": {},
   "outputs": [],
   "source": [
    "import json"
   ]
  },
  {
   "cell_type": "markdown",
   "metadata": {},
   "source": [
    "# Read video metadata\n",
    "\n",
    "Read from `/share/pi/cleemess/danfu/2019-05-good-mp4s-metadata.json`."
   ]
  },
  {
   "cell_type": "code",
   "execution_count": null,
   "metadata": {},
   "outputs": [],
   "source": [
    "with open('/share/pi/cleemess/danfu/2019-05-good-mp4s-metadata.json', 'r') as f:\n",
    "    video_files = json.load(f)"
   ]
  },
  {
   "cell_type": "code",
   "execution_count": null,
   "metadata": {},
   "outputs": [],
   "source": [
    "print('There are {} videos with metadata'.format(len(video_files)))"
   ]
  },
  {
   "cell_type": "markdown",
   "metadata": {},
   "source": [
    "# Visualize videos\n",
    "\n",
    "Import vgrid:"
   ]
  },
  {
   "cell_type": "code",
   "execution_count": null,
   "metadata": {},
   "outputs": [],
   "source": [
    "from vgrid import VGridSpec, VideoMetadata, VideoBlockFormat, FlatFormat\n",
    "from vgrid_jupyter import VGridWidget"
   ]
  },
  {
   "cell_type": "markdown",
   "metadata": {},
   "source": [
    "Load metadata for the first ten videos:"
   ]
  },
  {
   "cell_type": "code",
   "execution_count": null,
   "metadata": {},
   "outputs": [],
   "source": [
    "metadata_ten_videos = [\n",
    "    VideoMetadata(\n",
    "        v[\"filename\"], id=v[\"id\"], fps=v[\"fps\"],\n",
    "        num_frames=int(v[\"num_frames\"]), width=v[\"width\"], height=v[\"height\"])\n",
    "    for v in video_files[:10]\n",
    "]"
   ]
  },
  {
   "cell_type": "markdown",
   "metadata": {},
   "source": [
    "Visualize with Vgrid:"
   ]
  },
  {
   "cell_type": "code",
   "execution_count": null,
   "metadata": {},
   "outputs": [],
   "source": [
    "video_files[0]"
   ]
  },
  {
   "cell_type": "code",
   "execution_count": null,
   "metadata": {},
   "outputs": [],
   "source": [
    "vgrid_spec = VGridSpec(\n",
    "    video_meta = metadata_ten_videos,\n",
    "    vis_format = VideoBlockFormat(imaps = None, video_meta = metadata_ten_videos),\n",
    "    video_endpoint = 'http://localhost:8080'\n",
    ")\n",
    "VGridWidget(vgrid_spec = vgrid_spec.to_json_compressed())"
   ]
  }
 ],
 "metadata": {
  "kernelspec": {
   "display_name": "Python [conda env:cleemess-rekall] *",
   "language": "python",
   "name": "conda-env-cleemess-rekall-py"
  },
  "language_info": {
   "codemirror_mode": {
    "name": "ipython",
    "version": 3
   },
   "file_extension": ".py",
   "mimetype": "text/x-python",
   "name": "python",
   "nbconvert_exporter": "python",
   "pygments_lexer": "ipython3",
   "version": "3.7.3"
  }
 },
 "nbformat": 4,
 "nbformat_minor": 2
}
